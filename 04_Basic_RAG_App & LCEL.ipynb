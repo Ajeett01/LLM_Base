{
 "cells": [
  {
   "cell_type": "code",
   "execution_count": 27,
   "metadata": {},
   "outputs": [],
   "source": [
    "import os\n",
    "from dotenv import load_dotenv, find_dotenv\n",
    "_=load_dotenv(find_dotenv())\n",
    "openai_api_key=os.environ['OPENAI_API_KEY']"
   ]
  },
  {
   "cell_type": "code",
   "execution_count": 28,
   "metadata": {},
   "outputs": [],
   "source": [
    "from langchain_community.vectorstores import Chroma\n",
    "from langchain_openai import OpenAIEmbeddings\n",
    "from langchain_text_splitters import CharacterTextSplitter"
   ]
  },
  {
   "cell_type": "code",
   "execution_count": 29,
   "metadata": {},
   "outputs": [],
   "source": [
    "from langchain_community.document_loaders import TextLoader\n",
    "\n",
    "loader = TextLoader(\"./data/loda.txt\") \n",
    "loaded_documents = loader.load()"
   ]
  },
  {
   "cell_type": "code",
   "execution_count": 30,
   "metadata": {},
   "outputs": [
    {
     "data": {
      "text/plain": [
       "[Document(metadata={'source': './data/loda.txt'}, page_content=\"Artificial Intelligence and Machine Learning: A Comprehensive Overview\\n\\nIntroduction to AI\\nArtificial Intelligence (AI) represents the simulation of human intelligence in machines programmed to think and learn like humans. The field encompasses everything from basic rule-based systems to complex neural networks capable of processing natural language, recognizing patterns, and making decisions.\\n\\nMachine Learning Fundamentals\\nMachine Learning is a subset of AI that focuses on developing systems that can learn from and make decisions based on data. Key concepts include:\\n1. Supervised Learning: Training models using labeled data\\n2. Unsupervised Learning: Finding patterns in unlabeled data\\n3. Reinforcement Learning: Learning through trial and error with rewards\\n4. Deep Learning: Using neural networks with multiple layers\\n\\nNatural Language Processing\\nNLP enables computers to understand, interpret, and generate human language. Applications include:\\n- Text classification\\n- Sentiment analysis\\n- Machine translation\\n- Question answering systems\\n- Chatbots and virtual assistants\\n\\nComputer Vision\\nComputer Vision allows machines to understand and process visual information from the world. Key areas include:\\n- Image classification\\n- Object detection\\n- Facial recognition\\n- Scene understanding\\n- Video analysis\\n\\nDeep Learning Architecture\\nNeural networks form the backbone of modern AI systems:\\n1. Convolutional Neural Networks (CNNs)\\n- Ideal for image processing\\n- Feature extraction capabilities\\n- Hierarchical pattern recognition\\n\\n2. Recurrent Neural Networks (RNNs)\\n- Processing sequential data\\n- Time series analysis\\n- Natural language understanding\\n\\n3. Transformer Models\\n- Attention mechanisms\\n- BERT, GPT architectures\\n- State-of-the-art language models\\n\\nEthics in AI\\nImportant considerations in AI development:\\n1. Bias and Fairness\\n- Dataset representation\\n- Algorithm fairness\\n- Impact on different demographics\\n\\n2. Privacy Concerns\\n- Data protection\\n- User consent\\n- Secure AI systems\\n\\n3. Transparency\\n- Explainable AI\\n- Decision accountability\\n- Model interpretability\\n\\nAI Applications\\nReal-world implementations:\\n1. Healthcare\\n- Disease diagnosis\\n- Drug discovery\\n- Patient care optimization\\n\\n2. Finance\\n- Fraud detection\\n- Trading algorithms\\n- Risk assessment\\n\\n3. Transportation\\n- Autonomous vehicles\\n- Traffic management\\n- Route optimization\\n\\n4. Education\\n- Personalized learning\\n- Automated grading\\n- Educational content creation\\n\\nFuture Trends\\nEmerging developments in AI:\\n1. Quantum Computing\\n- Enhanced processing power\\n- Complex problem solving\\n- New algorithm possibilities\\n\\n2. Edge AI\\n- Distributed computing\\n- Real-time processing\\n- Reduced latency\\n\\n3. AutoML\\n- Automated model selection\\n- Hyperparameter optimization\\n- Democratization of AI\\n\\nChallenges and Limitations\\nCurrent obstacles in AI:\\n1. Computational Resources\\n- Hardware requirements\\n- Energy consumption\\n- Processing limitations\\n\\n2. Data Quality\\n- Dataset availability\\n- Labeling accuracy\\n- Bias mitigation\\n\\n3. Model Reliability\\n- Edge cases\\n- Adversarial attacks\\n- System robustness\\n\\nImplementation Strategies\\nBest practices for AI deployment:\\n1. Data Pipeline\\n- Collection methods\\n- Preprocessing steps\\n- Quality assurance\\n\\n2. Model Development\\n- Architecture selection\\n- Training procedures\\n- Validation techniques\\n\\n3. Deployment\\n- Scalability considerations\\n- Monitoring systems\\n- Maintenance protocols\\n\\nIndustry Impact\\nAI's influence across sectors:\\n1. Manufacturing\\n- Quality control\\n- Predictive maintenance\\n- Process optimization\\n\\n2. Retail\\n- Customer behavior analysis\\n- Inventory management\\n- Personalized recommendations\\n\\n3. Agriculture\\n- Crop monitoring\\n- Yield prediction\\n- Resource optimization\\n\\nResearch Directions\\nCurrent areas of investigation:\\n1. Few-shot Learning\\n- Reduced data requirements\\n- Transfer learning\\n- Meta-learning approaches\\n\\n2. Multimodal AI\\n- Cross-modal understanding\\n- Integrated analysis\\n- Combined predictions\\n\\n3. Sustainable AI\\n- Energy efficiency\\n- Environmental impact\\n- Green computing\\n\\nConclusion\\nAI continues to evolve rapidly, transforming industries and creating new possibilities. Understanding its fundamentals, applications, and challenges is crucial for leveraging its potential while addressing ethical concerns and limitations. The field promises continued innovation and impact across all sectors of society.\\n\")]"
      ]
     },
     "execution_count": 30,
     "metadata": {},
     "output_type": "execute_result"
    }
   ],
   "source": [
    "loaded_documents"
   ]
  },
  {
   "cell_type": "code",
   "execution_count": 31,
   "metadata": {},
   "outputs": [],
   "source": [
    "text_splitter = CharacterTextSplitter(chunk_size=1000, chunk_overlap=0)\n",
    "chucks_of_data = text_splitter.split_documents(loaded_documents)"
   ]
  },
  {
   "cell_type": "code",
   "execution_count": 32,
   "metadata": {},
   "outputs": [
    {
     "data": {
      "text/plain": [
       "[Document(metadata={'source': './data/loda.txt'}, page_content='Artificial Intelligence and Machine Learning: A Comprehensive Overview\\n\\nIntroduction to AI\\nArtificial Intelligence (AI) represents the simulation of human intelligence in machines programmed to think and learn like humans. The field encompasses everything from basic rule-based systems to complex neural networks capable of processing natural language, recognizing patterns, and making decisions.\\n\\nMachine Learning Fundamentals\\nMachine Learning is a subset of AI that focuses on developing systems that can learn from and make decisions based on data. Key concepts include:\\n1. Supervised Learning: Training models using labeled data\\n2. Unsupervised Learning: Finding patterns in unlabeled data\\n3. Reinforcement Learning: Learning through trial and error with rewards\\n4. Deep Learning: Using neural networks with multiple layers'),\n",
       " Document(metadata={'source': './data/loda.txt'}, page_content='Natural Language Processing\\nNLP enables computers to understand, interpret, and generate human language. Applications include:\\n- Text classification\\n- Sentiment analysis\\n- Machine translation\\n- Question answering systems\\n- Chatbots and virtual assistants\\n\\nComputer Vision\\nComputer Vision allows machines to understand and process visual information from the world. Key areas include:\\n- Image classification\\n- Object detection\\n- Facial recognition\\n- Scene understanding\\n- Video analysis\\n\\nDeep Learning Architecture\\nNeural networks form the backbone of modern AI systems:\\n1. Convolutional Neural Networks (CNNs)\\n- Ideal for image processing\\n- Feature extraction capabilities\\n- Hierarchical pattern recognition\\n\\n2. Recurrent Neural Networks (RNNs)\\n- Processing sequential data\\n- Time series analysis\\n- Natural language understanding\\n\\n3. Transformer Models\\n- Attention mechanisms\\n- BERT, GPT architectures\\n- State-of-the-art language models'),\n",
       " Document(metadata={'source': './data/loda.txt'}, page_content='Ethics in AI\\nImportant considerations in AI development:\\n1. Bias and Fairness\\n- Dataset representation\\n- Algorithm fairness\\n- Impact on different demographics\\n\\n2. Privacy Concerns\\n- Data protection\\n- User consent\\n- Secure AI systems\\n\\n3. Transparency\\n- Explainable AI\\n- Decision accountability\\n- Model interpretability\\n\\nAI Applications\\nReal-world implementations:\\n1. Healthcare\\n- Disease diagnosis\\n- Drug discovery\\n- Patient care optimization\\n\\n2. Finance\\n- Fraud detection\\n- Trading algorithms\\n- Risk assessment\\n\\n3. Transportation\\n- Autonomous vehicles\\n- Traffic management\\n- Route optimization\\n\\n4. Education\\n- Personalized learning\\n- Automated grading\\n- Educational content creation\\n\\nFuture Trends\\nEmerging developments in AI:\\n1. Quantum Computing\\n- Enhanced processing power\\n- Complex problem solving\\n- New algorithm possibilities\\n\\n2. Edge AI\\n- Distributed computing\\n- Real-time processing\\n- Reduced latency'),\n",
       " Document(metadata={'source': './data/loda.txt'}, page_content=\"3. AutoML\\n- Automated model selection\\n- Hyperparameter optimization\\n- Democratization of AI\\n\\nChallenges and Limitations\\nCurrent obstacles in AI:\\n1. Computational Resources\\n- Hardware requirements\\n- Energy consumption\\n- Processing limitations\\n\\n2. Data Quality\\n- Dataset availability\\n- Labeling accuracy\\n- Bias mitigation\\n\\n3. Model Reliability\\n- Edge cases\\n- Adversarial attacks\\n- System robustness\\n\\nImplementation Strategies\\nBest practices for AI deployment:\\n1. Data Pipeline\\n- Collection methods\\n- Preprocessing steps\\n- Quality assurance\\n\\n2. Model Development\\n- Architecture selection\\n- Training procedures\\n- Validation techniques\\n\\n3. Deployment\\n- Scalability considerations\\n- Monitoring systems\\n- Maintenance protocols\\n\\nIndustry Impact\\nAI's influence across sectors:\\n1. Manufacturing\\n- Quality control\\n- Predictive maintenance\\n- Process optimization\\n\\n2. Retail\\n- Customer behavior analysis\\n- Inventory management\\n- Personalized recommendations\"),\n",
       " Document(metadata={'source': './data/loda.txt'}, page_content='3. Agriculture\\n- Crop monitoring\\n- Yield prediction\\n- Resource optimization\\n\\nResearch Directions\\nCurrent areas of investigation:\\n1. Few-shot Learning\\n- Reduced data requirements\\n- Transfer learning\\n- Meta-learning approaches\\n\\n2. Multimodal AI\\n- Cross-modal understanding\\n- Integrated analysis\\n- Combined predictions\\n\\n3. Sustainable AI\\n- Energy efficiency\\n- Environmental impact\\n- Green computing\\n\\nConclusion\\nAI continues to evolve rapidly, transforming industries and creating new possibilities. Understanding its fundamentals, applications, and challenges is crucial for leveraging its potential while addressing ethical concerns and limitations. The field promises continued innovation and impact across all sectors of society.')]"
      ]
     },
     "execution_count": 32,
     "metadata": {},
     "output_type": "execute_result"
    }
   ],
   "source": [
    "chucks_of_data"
   ]
  },
  {
   "cell_type": "code",
   "execution_count": 33,
   "metadata": {},
   "outputs": [
    {
     "data": {
      "text/plain": [
       "5"
      ]
     },
     "execution_count": 33,
     "metadata": {},
     "output_type": "execute_result"
    }
   ],
   "source": [
    "len(chucks_of_data)\n"
   ]
  },
  {
   "cell_type": "code",
   "execution_count": 34,
   "metadata": {},
   "outputs": [],
   "source": [
    "embeddings = OpenAIEmbeddings()\n",
    "vector_db = Chroma.from_documents(chucks_of_data, embeddings)\n"
   ]
  },
  {
   "cell_type": "code",
   "execution_count": 35,
   "metadata": {},
   "outputs": [],
   "source": [
    "retriever = vector_db.as_retriever()"
   ]
  },
  {
   "cell_type": "code",
   "execution_count": 36,
   "metadata": {},
   "outputs": [],
   "source": [
    "response = retriever.invoke(\"What is NLP?\")"
   ]
  },
  {
   "cell_type": "code",
   "execution_count": 37,
   "metadata": {},
   "outputs": [
    {
     "name": "stdout",
     "output_type": "stream",
     "text": [
      "[Document(metadata={'source': './data/loda.txt'}, page_content='Natural Language Processing\\nNLP enables computers to understand, interpret, and generate human language. Applications include:\\n- Text classification\\n- Sentiment analysis\\n- Machine translation\\n- Question answering systems\\n- Chatbots and virtual assistants\\n\\nComputer Vision\\nComputer Vision allows machines to understand and process visual information from the world. Key areas include:\\n- Image classification\\n- Object detection\\n- Facial recognition\\n- Scene understanding\\n- Video analysis\\n\\nDeep Learning Architecture\\nNeural networks form the backbone of modern AI systems:\\n1. Convolutional Neural Networks (CNNs)\\n- Ideal for image processing\\n- Feature extraction capabilities\\n- Hierarchical pattern recognition\\n\\n2. Recurrent Neural Networks (RNNs)\\n- Processing sequential data\\n- Time series analysis\\n- Natural language understanding\\n\\n3. Transformer Models\\n- Attention mechanisms\\n- BERT, GPT architectures\\n- State-of-the-art language models'), Document(metadata={'source': './data/loda.txt'}, page_content='Natural Language Processing\\nNLP enables computers to understand, interpret, and generate human language. Applications include:\\n- Text classification\\n- Sentiment analysis\\n- Machine translation\\n- Question answering systems\\n- Chatbots and virtual assistants\\n\\nComputer Vision\\nComputer Vision allows machines to understand and process visual information from the world. Key areas include:\\n- Image classification\\n- Object detection\\n- Facial recognition\\n- Scene understanding\\n- Video analysis\\n\\nDeep Learning Architecture\\nNeural networks form the backbone of modern AI systems:\\n1. Convolutional Neural Networks (CNNs)\\n- Ideal for image processing\\n- Feature extraction capabilities\\n- Hierarchical pattern recognition\\n\\n2. Recurrent Neural Networks (RNNs)\\n- Processing sequential data\\n- Time series analysis\\n- Natural language understanding\\n\\n3. Transformer Models\\n- Attention mechanisms\\n- BERT, GPT architectures\\n- State-of-the-art language models'), Document(metadata={'source': './data/loda.txt'}, page_content='Artificial Intelligence and Machine Learning: A Comprehensive Overview\\n\\nIntroduction to AI\\nArtificial Intelligence (AI) represents the simulation of human intelligence in machines programmed to think and learn like humans. The field encompasses everything from basic rule-based systems to complex neural networks capable of processing natural language, recognizing patterns, and making decisions.\\n\\nMachine Learning Fundamentals\\nMachine Learning is a subset of AI that focuses on developing systems that can learn from and make decisions based on data. Key concepts include:\\n1. Supervised Learning: Training models using labeled data\\n2. Unsupervised Learning: Finding patterns in unlabeled data\\n3. Reinforcement Learning: Learning through trial and error with rewards\\n4. Deep Learning: Using neural networks with multiple layers'), Document(metadata={'source': './data/loda.txt'}, page_content='Artificial Intelligence and Machine Learning: A Comprehensive Overview\\n\\nIntroduction to AI\\nArtificial Intelligence (AI) represents the simulation of human intelligence in machines programmed to think and learn like humans. The field encompasses everything from basic rule-based systems to complex neural networks capable of processing natural language, recognizing patterns, and making decisions.\\n\\nMachine Learning Fundamentals\\nMachine Learning is a subset of AI that focuses on developing systems that can learn from and make decisions based on data. Key concepts include:\\n1. Supervised Learning: Training models using labeled data\\n2. Unsupervised Learning: Finding patterns in unlabeled data\\n3. Reinforcement Learning: Learning through trial and error with rewards\\n4. Deep Learning: Using neural networks with multiple layers')]\n"
     ]
    },
    {
     "data": {
      "text/plain": [
       "4"
      ]
     },
     "execution_count": 37,
     "metadata": {},
     "output_type": "execute_result"
    }
   ],
   "source": [
    "print(response)\n",
    "len(response)"
   ]
  },
  {
   "cell_type": "code",
   "execution_count": 38,
   "metadata": {},
   "outputs": [],
   "source": [
    "retriever = vector_db.as_retriever(search_kwargs={\"k\": 2})"
   ]
  },
  {
   "cell_type": "markdown",
   "metadata": {},
   "source": [
    "## Simple Use with LCEL"
   ]
  },
  {
   "cell_type": "code",
   "execution_count": 39,
   "metadata": {},
   "outputs": [],
   "source": [
    "from langchain_openai import ChatOpenAI\n",
    "from langchain_core.prompts import ChatPromptTemplate\n",
    "from langchain_core.output_parsers import StrOutputParser\n",
    "from langchain_core.runnables import RunnablePassthrough\n"
   ]
  },
  {
   "cell_type": "code",
   "execution_count": 40,
   "metadata": {},
   "outputs": [],
   "source": [
    "template = \"\"\"Answer the question based only on the following context:\n",
    "{context}\n",
    "\n",
    "Question: {question}\n",
    "\"\"\"\n",
    "prompt = ChatPromptTemplate.from_template(template)\n",
    "model = ChatOpenAI()"
   ]
  },
  {
   "cell_type": "code",
   "execution_count": 41,
   "metadata": {},
   "outputs": [],
   "source": [
    "def format_docs(docs):\n",
    "    return \"\\n\\n\".join([d.page_content for d in docs])\n",
    "\n",
    "\n",
    "rag_chain = (\n",
    "    {\"context\": retriever | format_docs, \"question\": RunnablePassthrough()}\n",
    "    | prompt\n",
    "    | model\n",
    "    | StrOutputParser()\n",
    ")"
   ]
  },
  {
   "cell_type": "code",
   "execution_count": 42,
   "metadata": {},
   "outputs": [
    {
     "name": "stdout",
     "output_type": "stream",
     "text": [
      "NLP stands for Natural Language Processing, which enables computers to understand, interpret, and generate human language. Applications of NLP include text classification, sentiment analysis, machine translation, question answering systems, chatbots, and virtual assistants.\n"
     ]
    }
   ],
   "source": [
    "response = rag_chain.invoke(\"What is NLP?\")\n",
    "print(response)"
   ]
  },
  {
   "cell_type": "code",
   "execution_count": null,
   "metadata": {},
   "outputs": [],
   "source": []
  }
 ],
 "metadata": {
  "kernelspec": {
   "display_name": "llmapp",
   "language": "python",
   "name": "python3"
  },
  "language_info": {
   "codemirror_mode": {
    "name": "ipython",
    "version": 3
   },
   "file_extension": ".py",
   "mimetype": "text/x-python",
   "name": "python",
   "nbconvert_exporter": "python",
   "pygments_lexer": "ipython3",
   "version": "3.9.18"
  }
 },
 "nbformat": 4,
 "nbformat_minor": 2
}
